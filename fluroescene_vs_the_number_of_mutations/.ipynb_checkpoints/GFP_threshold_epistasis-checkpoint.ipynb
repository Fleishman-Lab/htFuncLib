{
 "cells": [
  {
   "cell_type": "markdown",
   "metadata": {},
   "source": [
    "# Fraction of bright GFP variants vs. #mutations for different GFPs"
   ]
  },
  {
   "cell_type": "code",
   "execution_count": null,
   "metadata": {},
   "outputs": [],
   "source": [
    "import numpy as np\n",
    "import pandas as pd\n",
    "import matplotlib.pyplot as plt\n",
    "from scipy.optimize import curve_fit\n",
    "import math"
   ]
  },
  {
   "cell_type": "markdown",
   "metadata": {},
   "source": [
    "## 1. Load genotypes and phenotypes published in previous studies:"
   ]
  },
  {
   "cell_type": "markdown",
   "metadata": {},
   "source": [
    "> Sarkisyan *et al.*, Nature, 2016, 533:397 \\\n",
    "> Gonzalez Somermeyer *et al.*, eLife, 2022, 11:e75842"
   ]
  },
  {
   "cell_type": "markdown",
   "metadata": {},
   "source": [
    "Files with the datasets for [avGFP](https://github.com/aequorea238/Orthologous_GFP_Fitness_Peaks/blob/master/data/final_datasets/avGFP__rf_aminoacid_genotypes_to_brightness.csv) and [the other three GFP variants](https://github.com/aequorea238/Orthologous_GFP_Fitness_Peaks/blob/master/data/final_datasets/amacGFP_cgreGFP_ppluGFP2__final_aminoacid_genotypes_to_brightness.csv) were taken from the github repository **aequorea238/Orthologous_GFP_Fitness_Peaks** (folder **data/final_datasets/**) accompanying the paper *Gonzalez Somermeyer et al., eLife, 2022, 11:e75842*"
   ]
  },
  {
   "cell_type": "code",
   "execution_count": null,
   "metadata": {},
   "outputs": [],
   "source": [
    "av_GFP_file = 'avGFP__rf_aminoacid_genotypes_to_brightness.csv'\n",
    "amac_cgre_pplu_GFP_file = 'amacGFP_cgreGFP_ppluGFP2__final_aminoacid_genotypes_to_brightness.csv'"
   ]
  },
  {
   "cell_type": "markdown",
   "metadata": {},
   "source": [
    "### Load the previous datasets"
   ]
  },
  {
   "cell_type": "code",
   "execution_count": null,
   "metadata": {},
   "outputs": [],
   "source": [
    "def load_avGFP():\n",
    "    '''Load avGFP data from avGFP_file'''\n",
    "    avGFP = pd.read_csv(av_GFP_file)\n",
    "    # Turn log brightness to float\n",
    "    avGFP['log_brightness'] = [float(x) for x in avGFP['log_brightness']]\n",
    "    # Add brightness column\n",
    "    avGFP['replicates_mean_brightness'] = [10**x for x in avGFP['log_brightness']]\n",
    "    avGFP = avGFP.reindex(columns=['aa_genotype_pseudo', 'aa_genotype_native', 'n_replicates', \\\n",
    "                               'replicates_mean_brightness', 'log_brightness'])    \n",
    "    return avGFP"
   ]
  },
  {
   "cell_type": "code",
   "execution_count": null,
   "metadata": {},
   "outputs": [],
   "source": [
    "def load_eLife_GFPs():\n",
    "    '''Load data from amac_cgre_pplu_GFP_file'''\n",
    "    gfp = pd.read_csv(amac_cgre_pplu_GFP_file)\n",
    "    gfp = gfp.drop('total_cell_count', axis=1)\n",
    "    # Turn brightness to float \n",
    "    gfp['replicates_mean_brightness'] = [float(x) for x in gfp['replicates_mean_brightness']]\n",
    "    # Add logarithm of brightness\n",
    "    gfp['log_brightness'] = [math.log10(x) for x in gfp['replicates_mean_brightness']]\n",
    "\n",
    "    return gfp[gfp['gene'] == 'amacGFP'], \\\n",
    "           gfp[gfp['gene'] == 'cgreGFP'], \\\n",
    "           gfp[gfp['gene'] == 'ppluGFP']"
   ]
  },
  {
   "cell_type": "code",
   "execution_count": null,
   "metadata": {},
   "outputs": [],
   "source": [
    "GFPs = {'avGFP': load_avGFP(), \\\n",
    "        'amacGFP': load_eLife_GFPs()[0], \\\n",
    "        'cgreGFP': load_eLife_GFPs()[1], \\\n",
    "        'ppluGFP': load_eLife_GFPs()[2]}"
   ]
  },
  {
   "cell_type": "markdown",
   "metadata": {},
   "source": [
    "### Transform the loaded data"
   ]
  },
  {
   "cell_type": "code",
   "execution_count": null,
   "metadata": {},
   "outputs": [],
   "source": [
    "def transform_dataframe(gfp):\n",
    "    '''Make common transformations for all GFPs datasets'''\n",
    "    # Numerate rows\n",
    "    gfp.index = range(len(gfp))\n",
    "    # Turn number of replicates to int \n",
    "    gfp['n_replicates'] = [int(x) for x in gfp['n_replicates']]\n",
    "    # Make a column with number of mutations\n",
    "    gfp['#mutations'] = [len(x) for x in gfp['aa_genotype_pseudo'].str.split(':')]  \n",
    "    # Correct the number of mutations for wild-type\n",
    "    gfp.loc[gfp.index[gfp['aa_genotype_pseudo'] == 'wt'], ['#mutations']] = 0\n",
    "    \n",
    "    # Put wt to the first place\n",
    "    idx = (gfp.index[gfp['aa_genotype_pseudo'] == 'wt'])\n",
    "    new_idx = [idx[0]] + [i for i in range(len(gfp)) if i != idx]\n",
    "    gfp = gfp.iloc[new_idx].reset_index(drop=True)\n",
    "    \n",
    "    return gfp"
   ]
  },
  {
   "cell_type": "code",
   "execution_count": null,
   "metadata": {},
   "outputs": [],
   "source": [
    "for item in GFPs:\n",
    "    GFPs[item] = transform_dataframe(GFPs[item])"
   ]
  },
  {
   "cell_type": "markdown",
   "metadata": {},
   "source": [
    "## 2. Define sequences, alignments, and pocket positions"
   ]
  },
  {
   "cell_type": "markdown",
   "metadata": {},
   "source": [
    "### Define sequences"
   ]
  },
  {
   "cell_type": "markdown",
   "metadata": {},
   "source": [
    "Sequences of avGFP, amacGFP, cgreGFP, and ppluGFP and their alignement were taken from the github **'aequorea238/Orthologous_GFP_Fitness_Peaks'**, folder **'data/alignments/'**, file **'avGFP_amacGFP_cgreGFP_ppluGFP2__protein_sequences_TCoffee_aligned.fasta'**. Sequence of our GFP was aligned manually using very high sequence identity to avGFP."
   ]
  },
  {
   "cell_type": "code",
   "execution_count": null,
   "metadata": {},
   "outputs": [],
   "source": [
    "seqs = dict()\n",
    "seqs['GFP']     = 'MSKGEELFTGVVPILVELDGDVNGHKFSVSGEGEGDATYGKLTLKFICTTGKLPVPWPTLVTTLSYGVQCFSRYPDHMKRHDFFKSAMPEGYVQERTIFFKDDGNYKTRAEVKFEGDTLVNRIELKGIDFKEDGNILGHKLEYNYNSHNVYIMADKQKNGIKVNFKTRHNIEDGSVQLADHYQQNTPIGDGPVLLPDNHYLSTQSALSKDPNEKRDHMVLLEFVTAAGITHGMDELYN*'\n",
    "seqs['avGFP']   = 'MSKGEELFTGVVPILVELDGDVNGHKFSVSGEGEGDATYGKLTLKFICTTGKLPVPWPTLVTTLSYGVQCFSRYPDHMKQHDFFKSAMPEGYVQERTIFFKDDGNYKTRAEVKFEGDTLVNRIELKGIDFKEDGNILGHKLEYNYNSHNVYIMADKQKNGIKVNFKIRHNIEDGSVQLADHYQQNTPIGDGPVLLPDNHYLSTQSALSKDPNEKRDHMVLLEFVTAAGITHGMDELYK*'\n",
    "seqs['amacGFP'] = 'MSKGEELFTGIVPVLIELDGDVHGHKFSVRGEGEGDADYGKLEIKFICTTGKLPVPWPTLVTTLSYGILCFARYPEHMKMNDFFKSAMPEGYIQERTIFFQDDGKYKTRGEVKFEGDTLVNRIELKGMDFKEDGNILGHKLEYNFNSHNVYIMPDKANNGLKVNFKIRHNIEGGGVQLADHYQTNVPLGDGPVLIPINHYLSCQTAISKDRNETRDHMVFLEFFSACGHTHGMDELYK*'\n",
    "seqs['cgreGFP'] = 'MTALTEGAKLFEKEIPYITELEGDVEGMKFIIKGEGTGDATTGTIKAKYICTTGDLPVPWATILSSLSYGVFCFAKYPRHIADFFKSTQPDGYSQDRIISFDNDGQYDVKAKVTYENGTLYNRVTVKGTGFKSNGNILGMRVLYHSPPHAVYILPDRKNGGMKIEYNKAFDVMGGGHQMARHAQFNKPLGAWEEDYPLYHHLTVWTSFGKDPDDDETDHLTIVEVIKAVDLETYR*'\n",
    "seqs['ppluGFP'] = 'MPAMKIECRITGTLNGVEFELVGGGEGTPEQGRMTNKMKSTKGALTFSPYLLSHVMGYGFYHFGTYPSGYENPFLHAINNGGYTNTRIEKYEDGGVLHVSFSYRYEAGRVIGDFKVVGTGFPEDSVIFTDKIIRSNATVEHLHPMGDNVLVGSFARTFSLRDGGYYSFVVDSHMHFKSAIHPSILQNGGPMFAFRRVEELHSNTELGIVEYQHAFKTPIAFA*'"
   ]
  },
  {
   "cell_type": "code",
   "execution_count": null,
   "metadata": {},
   "outputs": [],
   "source": [
    "aligned_seqs = dict()\n",
    "aligned_seqs['GFP']     = 'MSK---GEELFTGVVPILVELDGDVNGHKFSVSGEGEGDATYGKLTLKFICTTGKLPVPWPTLVTTLSYGVQCFSRYPDHMKRHDFFKSAM-PEGYVQERTIFFKDDGNYKTRAEVKFEGDTLVNRIELKGIDFKEDGNILGHKLEYNYNSHNVYIMADKQKNGIKVNFKTRHNIEDGSVQLADHYQQNTPIGDGPVLLP---DNHYLSTQSALSKDPNE-KRDHMVLLEFVTAAGITHGMDELYN'\n",
    "aligned_seqs['avGFP']   = 'MSK---GEELFTGVVPILVELDGDVNGHKFSVSGEGEGDATYGKLTLKFICTTGKLPVPWPTLVTTLSYGVQCFSRYPDHMKQHDFFKSAM-PEGYVQERTIFFKDDGNYKTRAEVKFEGDTLVNRIELKGIDFKEDGNILGHKLEYNYNSHNVYIMADKQKNGIKVNFKIRHNIEDGSVQLADHYQQNTPIGDGPVLLP---DNHYLSTQSALSKDPNE-KRDHMVLLEFVTAAGITHGMDELYK'\n",
    "aligned_seqs['amacGFP'] = 'MSK---GEELFTGIVPVLIELDGDVHGHKFSVRGEGEGDADYGKLEIKFICTTGKLPVPWPTLVTTLSYGILCFARYPEHMKMNDFFKSAM-PEGYIQERTIFFQDDGKYKTRGEVKFEGDTLVNRIELKGMDFKEDGNILGHKLEYNFNSHNVYIMPDKANNGLKVNFKIRHNIEGGGVQLADHYQTNVPLGDGPVLIP---INHYLSCQTAISKDRNE-TRDHMVFLEFFSACGHTHGMDELYK'\n",
    "aligned_seqs['cgreGFP'] = 'MTALTEGAKLFEKEIPYITELEGDVEGMKFIIKGEGTGDATTGTIKAKYICTTGDLPVPWATILSSLSYGVFCFAKYPRHIA--DFFKSTQ-PDGYSQDRIISFDNDGQYDVKAKVTYENGTLYNRVTVKGTGFKSNGNILGMRVLYHSPPHAVYILPDRKNGGMKIEYNKAFDVMGGGHQMARHAQFNKPLGAWEEDYP---LYHHLTVWTSFGKDPDDDETDHLTIVEVIKAVDL--E---TYR'\n",
    "aligned_seqs['ppluGFP'] = 'MPA-----------MKIECRITGTLNGVEFELVGGGEGTPEQGRMTNKMKSTKGALTFSPYLLSHVMGYGFYHFGTYPSGYE--NPFLHAINNGGYTNTRIEKYEDGGVLHVSFSYRYEAGRVIGDFKVVGTGFPEDSVIFTDKII-RSNATVEHLHPM-GDNVLVGSFARTFSLRDGGYYSFVVDSHMHFKSAIHPSILQNGGPMFAFRRVEELH-----SNTELGIVEYQHAFKTPIAFA----'"
   ]
  },
  {
   "cell_type": "markdown",
   "metadata": {},
   "source": [
    "### Define mapping from our GFP sequence to the other GFP sequences"
   ]
  },
  {
   "cell_type": "code",
   "execution_count": null,
   "metadata": {
    "scrolled": false
   },
   "outputs": [],
   "source": [
    "# Counts of the amino acid residues when going through the alignment\n",
    "counts = dict()\n",
    "for item in seqs: counts[item] = 1\n",
    "# Map residues' numbers from our GFP to the other GFPs \n",
    "maps = dict()\n",
    "for item in ['avGFP', 'amacGFP', 'cgreGFP', 'ppluGFP']: maps[item] = dict()\n",
    "\n",
    "for i in range(len(aligned_seqs['GFP'])):\n",
    "    num = counts['GFP']\n",
    "    if aligned_seqs['GFP'][i:i + 1] != '-':\n",
    "        for item in maps: \n",
    "            if aligned_seqs[item][i:i + 1] != '-': maps[item][num] = counts[item]\n",
    "\n",
    "    for item in counts: \n",
    "        if aligned_seqs[item][i:i + 1] != '-': counts[item] += 1"
   ]
  },
  {
   "cell_type": "markdown",
   "metadata": {},
   "source": [
    "### Define pocket positions for our GFP"
   ]
  },
  {
   "cell_type": "code",
   "execution_count": null,
   "metadata": {},
   "outputs": [],
   "source": [
    "# Numbering for our GFP starts with 1.\n",
    "pocket = dict()\n",
    "pocket['GFP'] = [int(x) for x in \\\n",
    "            '14, 16, 18, 42, 44, 46, 61, 62, 63, 64, 66, 68, 69, 72, 92, 94, 96, 108, 110, 112, 119, 121, 123, \\\n",
    "            145, 148, 150, 163, 165, 167, 181, 183, 185, 201, 203, 205, 220, 222, 224'.split(', ')]"
   ]
  },
  {
   "cell_type": "markdown",
   "metadata": {},
   "source": [
    "### Define corresponding pocket positions for avGFP, amacGFP, cgreGFP, and ppluGFP"
   ]
  },
  {
   "cell_type": "code",
   "execution_count": null,
   "metadata": {},
   "outputs": [],
   "source": [
    "# Lists of pocket positions in the other GFPs\n",
    "for item in maps:\n",
    "    pocket[item] = list()\n",
    "\n",
    "for item in maps:\n",
    "    for num in pocket['GFP']:\n",
    "        pocket[item].append(maps[item][num])"
   ]
  },
  {
   "cell_type": "markdown",
   "metadata": {},
   "source": [
    "## 3. Filtering genotypes from the previous studies to only pocket positions"
   ]
  },
  {
   "cell_type": "code",
   "execution_count": null,
   "metadata": {
    "scrolled": false
   },
   "outputs": [],
   "source": [
    "def needed(mutations, pocket, sequence):\n",
    "    '''Define if all mutations from the 'mutations' happen in 'pocket' positions'''\n",
    "    for mut in mutations.split(':'):\n",
    "        if mut == 'wt': \n",
    "            return True\n",
    "        else:\n",
    "            source, num, to = mut[:1], int(mut[1:-1]), mut[-1:]\n",
    "            if num >= len(sequence):\n",
    "                print(mut, num, sequence)\n",
    "            if source != sequence[num]:\n",
    "                print('ERROR:', mut, sequence[num], num)\n",
    "            if num + 1 not in pocket:\n",
    "                return False\n",
    "    return True"
   ]
  },
  {
   "cell_type": "code",
   "execution_count": null,
   "metadata": {
    "scrolled": false
   },
   "outputs": [],
   "source": [
    "for item in GFPs:\n",
    "    gfp = GFPs[item]\n",
    "    idx = list()\n",
    "    for ind in gfp.index:\n",
    "        # Ignore mutations to stop codon\n",
    "        if '*' in gfp.loc[ind, 'aa_genotype_native']:\n",
    "            continue\n",
    "        if needed(gfp.loc[ind, 'aa_genotype_native'], pocket[item], seqs[item]) == True:\n",
    "            idx.append(ind)\n",
    "    GFPs[item] = gfp.iloc[idx].reset_index(drop=True)"
   ]
  },
  {
   "cell_type": "markdown",
   "metadata": {},
   "source": [
    "## 4. Make dictionaries to store the #mutations datapoints and the fitting results"
   ]
  },
  {
   "cell_type": "code",
   "execution_count": null,
   "metadata": {},
   "outputs": [],
   "source": [
    "all_dict = dict()      # Number of all GFP variants for given number of mutations\n",
    "bright_dict = dict()   # Number of bright GFP variants for given number of mutations\n",
    "fr_dict = dict()       # Fraction of bright GFP variants for given number of mutations\n",
    "A_dict = dict()        # Parameter A of fitting the function exp(-An - Bn(n-1)/2)\n",
    "B_dict = dict()        # Parameter B of fitting the function exp(-An - Bn(n-1)/2)\n",
    "rmse_dict = dict()     # RMSE value between datapoints and corresponding fit"
   ]
  },
  {
   "cell_type": "markdown",
   "metadata": {},
   "source": [
    "## 5. Generate aggregated data for the previous studies"
   ]
  },
  {
   "cell_type": "code",
   "execution_count": null,
   "metadata": {},
   "outputs": [],
   "source": [
    "brightness_thresholds = {'avGFP': 3.0, \\\n",
    "                         'amacGFP': 3.5, \\\n",
    "                         'cgreGFP': 3.5, \\\n",
    "                         'ppluGFP': 3.5}\n",
    "for item in GFPs:\n",
    "    gfp = GFPs[item]\n",
    "    # Filter bright variants\n",
    "    gfp_bright = gfp[gfp['log_brightness'] >= brightness_thresholds[item]]\n",
    "\n",
    "    y0 = pd.DataFrame(gfp_bright.groupby('#mutations').agg({'log_brightness' : 'count'}))\n",
    "    y1 = pd.DataFrame(gfp.groupby('#mutations').agg({'log_brightness' : 'count'}))\n",
    "\n",
    "    y0 = list(y0['log_brightness'])\n",
    "    y1 = list(y1['log_brightness'])\n",
    "    for j in range(len(y0), len(y1)):\n",
    "        y0.append(0)\n",
    "    bright_dict[item] = y0\n",
    "    all_dict[item] = y1\n",
    "\n",
    "    y = [y0[j] / y1[j] for j in range(len(y0))]\n",
    "    fr_dict[item] = y"
   ]
  },
  {
   "cell_type": "markdown",
   "metadata": {},
   "source": [
    "## 6. Load aggregated data from the present study"
   ]
  },
  {
   "cell_type": "code",
   "execution_count": null,
   "metadata": {
    "scrolled": true
   },
   "outputs": [],
   "source": [
    "GFP_agg = pd.read_csv('merged_RF_NGS.csv')"
   ]
  },
  {
   "cell_type": "markdown",
   "metadata": {},
   "source": [
    "### Put random forest data to the dictionaries"
   ]
  },
  {
   "cell_type": "code",
   "execution_count": null,
   "metadata": {},
   "outputs": [],
   "source": [
    "all_dict['rfGFP'] = list(GFP_agg['count_RF'])\n",
    "bright_dict['rfGFP'] = list(GFP_agg['sum_RF'])\n",
    "fr_dict['rfGFP'] = list(GFP_agg['func_freq_RF'])"
   ]
  },
  {
   "cell_type": "markdown",
   "metadata": {},
   "source": [
    "### Put NGS data to the dictionaries"
   ]
  },
  {
   "cell_type": "code",
   "execution_count": null,
   "metadata": {},
   "outputs": [],
   "source": [
    "all_dict['ngsGFP'] = list(GFP_agg['count_NGS'])\n",
    "bright_dict['ngsGFP'] = list(GFP_agg['sum_NGS'])\n",
    "fr_dict['ngsGFP'] = list(GFP_agg['func_freq_NGS'])"
   ]
  },
  {
   "cell_type": "markdown",
   "metadata": {},
   "source": [
    "## 7. Fitting threshold-epistasis curve to the data"
   ]
  },
  {
   "cell_type": "code",
   "execution_count": null,
   "metadata": {},
   "outputs": [],
   "source": [
    "def new_threshold(n, A, B):\n",
    "    '''Return modified threshold-epistasis function exp{-An - Bn(n-1)/2}.'''\n",
    "    return np.exp(-1 * A * n - B * n *(n - 1) / 2)\n",
    "\n",
    "\n",
    "def fit(dependence, function):\n",
    "    '''Fit 'function' to 'dependence'.'''\n",
    "    xdata = np.asarray([x for x in range(len(dependence))])\n",
    "    ydata = np.asarray(dependence)\n",
    "    \n",
    "    return curve_fit(function, xdata, ydata, p0=[0, 1], bounds=([0, 0], np.inf))\n",
    "\n",
    "\n",
    "def rmse(y, y_fit):\n",
    "    '''Return RMSE between the 'y_fit' and 'y'.'''\n",
    "    return math.sqrt(np.sum((np.asarray(y) - np.asarray(y_fit))**2) / len(y))"
   ]
  },
  {
   "cell_type": "markdown",
   "metadata": {},
   "source": [
    "### Fit 'new_threshold' function to data, store parameters A, B and RMSE"
   ]
  },
  {
   "cell_type": "code",
   "execution_count": null,
   "metadata": {
    "scrolled": false
   },
   "outputs": [],
   "source": [
    "for item in all_dict:\n",
    "    y = fr_dict[item]\n",
    "    x = np.asarray([x for x in range(len(fr_dict[item]))])\n",
    "    parameters, foo = fit(fr_dict[item], new_threshold)\n",
    "    A, B = round(parameters[0], 5), round(parameters[1], 5)\n",
    "    y_fit = new_threshold(x, A, B)\n",
    "    A_dict[item] = A\n",
    "    B_dict[item] = B\n",
    "    rmse_dict[item] = round(rmse(fr_dict[item], y_fit), 5)"
   ]
  },
  {
   "cell_type": "markdown",
   "metadata": {},
   "source": [
    "## 8. Print to files and plot picture"
   ]
  },
  {
   "cell_type": "markdown",
   "metadata": {},
   "source": [
    "### Print aggregated statistics to files for each GFP"
   ]
  },
  {
   "cell_type": "code",
   "execution_count": null,
   "metadata": {},
   "outputs": [],
   "source": [
    "for item in all_dict:\n",
    "    with open(item + '.csv', 'w') as f:\n",
    "        print('num_muts,count,sum,func_freq', file=f)\n",
    "        for j in range(len(all_dict[item])):\n",
    "            print(j, bright_dict[item][j], all_dict[item][j], fr_dict[item][j], sep=',', file=f)"
   ]
  },
  {
   "cell_type": "markdown",
   "metadata": {},
   "source": [
    "### Print overall statistics to the file 'table.csv'"
   ]
  },
  {
   "cell_type": "code",
   "execution_count": null,
   "metadata": {},
   "outputs": [],
   "source": [
    "with open('table.csv', 'w') as f:\n",
    "    print('dataset,count,sum,func_freq,A,B,alpha,beta,rmse', file=f)\n",
    "    for item in ['rfGFP', 'ngsGFP', 'avGFP', 'amacGFP', 'cgreGFP', 'ppluGFP']:\n",
    "        print(item, sum(bright_dict[item]), sum(all_dict[item]), \\\n",
    "              round(sum(bright_dict[item]) / sum(all_dict[item]), 4), \\\n",
    "              A_dict[item], B_dict[item], \\\n",
    "              round(A_dict[item] - B_dict[item]/2, 5), \\\n",
    "              B_dict[item]/2, rmse_dict[item], sep=',', file=f)"
   ]
  },
  {
   "cell_type": "markdown",
   "metadata": {},
   "source": [
    "### Plot picture"
   ]
  },
  {
   "cell_type": "code",
   "execution_count": null,
   "metadata": {},
   "outputs": [],
   "source": [
    "symbols = {'rfGFP':'o', 'ngsGFP':'X', 'avGFP':'s', 'amacGFP':'P', 'cgreGFP':'D', 'ppluGFP':'*'}\n",
    "lines   = {'rfGFP':'-', 'ngsGFP':'--', 'avGFP':'-.', 'amacGFP':'-..', 'cgreGFP':'-', 'ppluGFP':'-'}\n",
    "colors  = {'rfGFP':'green', 'ngsGFP':'blue', 'avGFP':'orange', 'amacGFP':'gray', 'cgreGFP':'magenta', 'ppluGFP':'cyan'}\n",
    "labels  = {'rfGFP':'Random forest', 'ngsGFP':'NGS', 'avGFP':'A.victoria', \\\n",
    "           'amacGFP':'A.macrodactyla', 'cgreGFP':'C.gregaria', 'ppluGFP':'P.plumata'}\n",
    "\n",
    "plt.figure(figsize=(14, 8))\n",
    "plt.rcParams.update({'font.size': 22})\n",
    "\n",
    "x_fit = np.asarray([x / 100 for x in range(100 * (len(fr_dict['rfGFP']) - 1) + 1)])\n",
    "\n",
    "for item in ['rfGFP', 'ngsGFP', 'avGFP', 'amacGFP', 'cgreGFP', 'ppluGFP']:\n",
    "    plt.plot([x for x in range(len(fr_dict[item]))], fr_dict[item], symbols[item], c=colors[item], \\\n",
    "             label=labels[item], markersize=10)\n",
    "    plt.plot(x_fit, new_threshold(x_fit, A_dict[item], B_dict[item]), lines[item], c=colors[item], \n",
    "             label=labels[item] + ' fit', linewidth=2)\n",
    "    \n",
    "plt.legend()\n",
    "plt.title('GFP', fontsize=24)\n",
    "plt.xlabel('Number of mutations')"
   ]
  },
  {
   "cell_type": "code",
   "execution_count": null,
   "metadata": {},
   "outputs": [],
   "source": []
  }
 ],
 "metadata": {
  "kernelspec": {
   "display_name": "Python 3",
   "language": "python",
   "name": "python3"
  },
  "language_info": {
   "codemirror_mode": {
    "name": "ipython",
    "version": 3
   },
   "file_extension": ".py",
   "mimetype": "text/x-python",
   "name": "python",
   "nbconvert_exporter": "python",
   "pygments_lexer": "ipython3",
   "version": "3.7.3"
  }
 },
 "nbformat": 4,
 "nbformat_minor": 2
}
